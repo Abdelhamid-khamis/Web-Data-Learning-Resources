{
 "cells": [
  {
   "cell_type": "code",
   "execution_count": 2,
   "metadata": {},
   "outputs": [],
   "source": [
    "import os\n",
    "import binance.client \n",
    "from binance.client import Client \n",
    "import pandas as pd\n",
    "import my_key"
   ]
  },
  {
   "cell_type": "code",
   "execution_count": 3,
   "metadata": {},
   "outputs": [],
   "source": [
    "# The following are the Pkey and Secret keys for My binance wallet\n",
    "Pkey = my_key.Pkey\n",
    "Skey = my_key.Skey\n",
    "\n",
    "# Hiding the API Key in Environment Variables : https://networkdirection.net/python/resources/env-variable/\n",
    "    #! gives me an error message - BinanceAPIException: APIError(code=-2014): API-key format invalid.\n",
    "\n",
    "# Pkey = os.environ.get('BINANCE_API_KEY')\n",
    "# Skey = os.environ.get('BINANCE_SECRET_KEY')\n",
    "\n",
    "\n",
    "client = Client(api_key=Pkey, api_secret=str(Skey)) \n"
   ]
  },
  {
   "cell_type": "code",
   "execution_count": 4,
   "metadata": {},
   "outputs": [
    {
     "name": "stdout",
     "output_type": "stream",
     "text": [
      "0.01981496\n"
     ]
    }
   ],
   "source": [
    "usdt_balance_json = client.get_asset_balance(asset='USDT')\n",
    "usdt_balance = float(usdt_balance_json['free'])\n",
    "print(usdt_balance)\n",
    "\n"
   ]
  },
  {
   "cell_type": "code",
   "execution_count": 5,
   "metadata": {},
   "outputs": [
    {
     "name": "stdout",
     "output_type": "stream",
     "text": [
      "4363.0\n"
     ]
    }
   ],
   "source": [
    "sun_balance_json = client.get_asset_balance(asset='sun')\n",
    "sun_balance = float(sun_balance_json['free'])\n",
    "print(sun_balance)"
   ]
  },
  {
   "cell_type": "markdown",
   "metadata": {},
   "source": [
    "## Get the following information:\n",
    "- Free_asset_balance\n",
    "- Locked_asset_balance {Locked for trading}\n",
    "- Total_asset_balance"
   ]
  },
  {
   "cell_type": "code",
   "execution_count": 36,
   "metadata": {},
   "outputs": [
    {
     "name": "stdout",
     "output_type": "stream",
     "text": [
      "Salam Whale!!\n",
      " Your free asset balance is: 0.01981496.\n",
      " Your locked asset balance is: 0.0.\n",
      " Your total asset balance is: 0.01981496.\n"
     ]
    },
    {
     "data": {
      "text/plain": [
       "(0.01981496, 0.0, 0.01981496)"
      ]
     },
     "execution_count": 36,
     "metadata": {},
     "output_type": "execute_result"
    }
   ],
   "source": [
    "def get_current_balance(asset_name):\n",
    "    \n",
    "    ''' ctrl shift 2\n",
    "     get_current_balance\n",
    "\n",
    "    _a feature that gets the current balance of a specific asset_\n",
    "\n",
    "    Returns\n",
    "    -------\n",
    "    float\n",
    "        _description_\n",
    "    '''    \n",
    "    asset_balance_json = client.get_asset_balance(asset=asset_name)\n",
    "    asset_free_balance = float(asset_balance_json['free'])\n",
    "    asset_locked_balance = float(asset_balance_json['locked'])\n",
    "    total_asset_balance = asset_free_balance + asset_locked_balance\n",
    "    print(f\"Salam Whale!!\\n Your free asset balance is: {asset_free_balance}.\\n Your locked asset balance is: {asset_locked_balance}.\\n Your total asset balance is: {total_asset_balance}.\")\n",
    "    \n",
    "    return asset_free_balance, asset_locked_balance, total_asset_balance\n",
    "\n",
    "get_current_balance('USDT')"
   ]
  },
  {
   "cell_type": "code",
   "execution_count": null,
   "metadata": {},
   "outputs": [],
   "source": []
  },
  {
   "cell_type": "markdown",
   "metadata": {},
   "source": [
    "## Menu to the user"
   ]
  },
  {
   "cell_type": "code",
   "execution_count": 40,
   "metadata": {},
   "outputs": [
    {
     "name": "stdout",
     "output_type": "stream",
     "text": [
      "Salam Whale!! \n",
      "\n",
      "Choose from this list:\n",
      "1- MarketBuy\n",
      "2- Sell OCO order\n",
      "You chose to MarketBuy, please write the ticker you want to purchase and include Quote pair: \n",
      "The current price of the ticker is: 320.39159\n",
      "How much in % you want to use from your Free USDT to buy.\n",
      "Salam Whale!!\n",
      " Your free asset balance is: 0.01981496.\n",
      " Your locked asset balance is: 0.0.\n",
      " Your total asset balance is: 0.01981496.\n",
      "COnfirm?\n",
      "Market buy/order of 1.236921356144211e-05, at cost of 0.003962992\n",
      "Your respective choice is: 1\n"
     ]
    }
   ],
   "source": [
    "print(f\"Salam Whale!! \\n\\nChoose from this list:\\n1- MarketBuy\\n2- Sell OCO order\")\n",
    "user_int_choice = int(input(\"Please choose from this list: \"))\n",
    "\n",
    "if user_int_choice == 1:\n",
    "      # Send market buy order\n",
    "      \n",
    "      print(\"You chose to MarketBuy, please write the ticker you want to purchase and include Quote pair: \")\n",
    "      ticker = input(\"Please enter your ticker and Quote pair (e.g. XRPUSDT): \")\n",
    "      \n",
    "      # Get ticker current price - API\n",
    "      ticker_price = round(float(client.get_avg_price(symbol=ticker)['price']),5)\n",
    "      print(f\"The current price of the ticker is: {ticker_price}\")\n",
    "      \n",
    "      # Get how much percentage of the ticker you want to buy - USER\n",
    "      print(\"How much in % you want to use from your Free USDT to buy.\")\n",
    "      usdt_percentage = float(input(\"Please enter your USDT Percentage(e.g. 0.1 means 10%): \"))\n",
    "      \n",
    "      # Get the amount of USDT available to use\n",
    "      usdt_amount = usdt_percentage * get_current_balance(\"USDT\")[0]\n",
    "      asset_amount = usdt_amount / ticker_price\n",
    "      \n",
    "      print(f\"Print 1 to Confirm?\\nMarket buy/order of {asset_amount}, at cost of {usdt_amount}\")\n",
    "      confirm = int(input(\"Print 1 to confirm: \"))\n",
    "      if confirm == 1:\n",
    "            # Send market buy orders\n",
    "            order = client.create_order()\n",
    "            \n",
    "            #! Stoped here\n"
   ]
  },
  {
   "cell_type": "code",
   "execution_count": null,
   "metadata": {},
   "outputs": [],
   "source": []
  },
  {
   "cell_type": "code",
   "execution_count": 39,
   "metadata": {},
   "outputs": [
    {
     "name": "stdout",
     "output_type": "stream",
     "text": [
      "Salam Whale!!\n",
      " Your free asset balance is: 0.01981496.\n",
      " Your locked asset balance is: 0.0.\n",
      " Your total asset balance is: 0.01981496.\n"
     ]
    },
    {
     "ename": "IndexError",
     "evalue": "tuple index out of range",
     "output_type": "error",
     "traceback": [
      "\u001b[1;31m---------------------------------------------------------------------------\u001b[0m",
      "\u001b[1;31mIndexError\u001b[0m                                Traceback (most recent call last)",
      "\u001b[1;32mC:\\Users\\HAMEED~1\\AppData\\Local\\Temp/ipykernel_5288/133696029.py\u001b[0m in \u001b[0;36m<module>\u001b[1;34m\u001b[0m\n\u001b[1;32m----> 1\u001b[1;33m \u001b[0mget_current_balance\u001b[0m\u001b[1;33m(\u001b[0m\u001b[1;34m\"USDT\"\u001b[0m\u001b[1;33m)\u001b[0m\u001b[1;33m[\u001b[0m\u001b[1;36m4\u001b[0m\u001b[1;33m]\u001b[0m\u001b[1;33m\u001b[0m\u001b[1;33m\u001b[0m\u001b[0m\n\u001b[0m",
      "\u001b[1;31mIndexError\u001b[0m: tuple index out of range"
     ]
    }
   ],
   "source": []
  },
  {
   "cell_type": "code",
   "execution_count": null,
   "metadata": {},
   "outputs": [],
   "source": []
  }
 ],
 "metadata": {
  "interpreter": {
   "hash": "39ee83a919181290c4d842af751c914fc9cc9875936341250fd1c581d67a8dbc"
  },
  "kernelspec": {
   "display_name": "Python 3.10.0 ('data_science_env')",
   "language": "python",
   "name": "python3"
  },
  "language_info": {
   "codemirror_mode": {
    "name": "ipython",
    "version": 3
   },
   "file_extension": ".py",
   "mimetype": "text/x-python",
   "name": "python",
   "nbconvert_exporter": "python",
   "pygments_lexer": "ipython3",
   "version": "3.10.0"
  },
  "orig_nbformat": 4
 },
 "nbformat": 4,
 "nbformat_minor": 2
}
