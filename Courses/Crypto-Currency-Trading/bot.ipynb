{
 "cells": [
  {
   "cell_type": "code",
   "execution_count": 19,
   "metadata": {},
   "outputs": [],
   "source": [
    "import os\n",
    "import binance.client \n",
    "from binance.client import Client \n",
    "import pandas as pd\n",
    "import my_key"
   ]
  },
  {
   "cell_type": "code",
   "execution_count": 23,
   "metadata": {},
   "outputs": [],
   "source": [
    "# The following are the Pkey and Secret keys for My binance wallet\n",
    "Pkey = my_key.Pkey\n",
    "Skey = my_key.Skey\n",
    "\n",
    "# Hiding the API Key in Environment Variables : https://networkdirection.net/python/resources/env-variable/\n",
    "    #! gives me an error message - BinanceAPIException: APIError(code=-2014): API-key format invalid.\n",
    "\n",
    "# Pkey = os.environ.get('BINANCE_API_KEY')\n",
    "# Skey = os.environ.get('BINANCE_SECRET_KEY')\n",
    "\n",
    "\n",
    "client = Client(api_key=Pkey, api_secret=str(Skey)) \n"
   ]
  },
  {
   "cell_type": "code",
   "execution_count": 24,
   "metadata": {},
   "outputs": [
    {
     "name": "stdout",
     "output_type": "stream",
     "text": [
      "{'asset': 'USDT', 'free': '0.01981496', 'locked': '0.00000000'}\n"
     ]
    }
   ],
   "source": [
    "usdt_balance = client.get_asset_balance(asset='USDT')\n",
    "print(usdt_balance)"
   ]
  },
  {
   "cell_type": "code",
   "execution_count": 9,
   "metadata": {},
   "outputs": [
    {
     "name": "stdout",
     "output_type": "stream",
     "text": [
      "None\n"
     ]
    }
   ],
   "source": [
    "import os\n",
    "key = os.environ.get('BINANCE_API_KEY')\n",
    "print(key)"
   ]
  },
  {
   "cell_type": "code",
   "execution_count": null,
   "metadata": {},
   "outputs": [],
   "source": []
  }
 ],
 "metadata": {
  "interpreter": {
   "hash": "39ee83a919181290c4d842af751c914fc9cc9875936341250fd1c581d67a8dbc"
  },
  "kernelspec": {
   "display_name": "Python 3.10.0 ('data_science_env')",
   "language": "python",
   "name": "python3"
  },
  "language_info": {
   "codemirror_mode": {
    "name": "ipython",
    "version": 3
   },
   "file_extension": ".py",
   "mimetype": "text/x-python",
   "name": "python",
   "nbconvert_exporter": "python",
   "pygments_lexer": "ipython3",
   "version": "3.10.0"
  },
  "orig_nbformat": 4
 },
 "nbformat": 4,
 "nbformat_minor": 2
}
