{
 "cells": [
  {
   "cell_type": "code",
   "execution_count": 1,
   "metadata": {},
   "outputs": [],
   "source": [
    "# @data_science_env \n",
    "    # conda install beautifulsoup4\n",
    "    # conda install requests\n",
    "    # conda install lxml\n",
    "    \n",
    "# Import important libraries\n",
    "import requests # helps you to get the webpage from the internet\n",
    "from bs4 import BeautifulSoup # Webscraping essential library - helps you to get html tags, and tags content\n",
    "import lxml as xml\n",
    "from itertools import zip_longest   # built-in library: contains methods to iterate through list of lists\n",
    "import csv  # built-in library: contains methods to help you write rows in csv file\n"
   ]
  },
  {
   "cell_type": "code",
   "execution_count": 2,
   "metadata": {},
   "outputs": [],
   "source": [
    "# 1st step: Get the webpage, given its URL\n",
    "result = requests.get('https://www.olx.com.eg/en/ads/q-apartment-for.-sale/') # returns python object -> <Response [200]>\n",
    "\n",
    "# Get the content attribute of the previous result object\n",
    "src = result.content # return the content of the previous result object in a string format\n",
    "\n",
    "# Parse(process) the string output, using `BeautifulSoup` method\n",
    "soup = BeautifulSoup(src, \"lxml\") # parsed version of the webpage\n",
    "\n",
    "# As long as, I have reached the parsed version, I can continue getting what I need.\n",
    "    # Feature(column) 1: Get jobs titles\n",
    "\n",
    "appartment_description = soup.find_all(\"div\", {\"class\" : \"_3e9da9c1\", \"aria-label\":\"Title\"}) # return a list of all \"h2\" with the class name \"css-m604qf\"\n",
    "    # [<h2 class=\"css-m604qf\"><style data-emotion=\"css o171kl\">.css-o171kl{-webkit-text-decoration:none;text-decoration:none;\n",
    "    #   color:inherit;}</style><a class=\"css-o171kl\" href=\"/jobs/p/cPvgV6Wt9Wjx-Python-Developer-WeArt-Dammam-Saudi-Arabia?\n",
    "    #       o=1&amp;l=sp&amp;t=sj&amp;a=python|search-v3|hpb\" rel=\"noreferrer\" target=\"_blank\">Python Developer</a></h2>,]\n",
    "    \n",
    "\n",
    "appartment_description_list = []\n",
    "for counter in range(len(appartment_description)):\n",
    "    appartment_description_list.append(appartment_description[counter].text) # will append cleaned title to job_title_list"
   ]
  },
  {
   "cell_type": "code",
   "execution_count": 3,
   "metadata": {},
   "outputs": [
    {
     "data": {
      "text/plain": [
       "[]"
      ]
     },
     "execution_count": 3,
     "metadata": {},
     "output_type": "execute_result"
    }
   ],
   "source": [
    "appartment_description_list"
   ]
  },
  {
   "cell_type": "code",
   "execution_count": 8,
   "metadata": {},
   "outputs": [
    {
     "name": "stdout",
     "output_type": "stream",
     "text": [
      "[]\n",
      "[]\n"
     ]
    }
   ],
   "source": [
    "from selenium import webdriver\n",
    "import time\n",
    "from bs4 import BeautifulSoup\n",
    "\n",
    "\n",
    "driver = webdriver.Chrome()\n",
    "url= \"https://www.olx.com.eg/en/ads/q-apartment-for.-sale/\"\n",
    "driver.maximize_window()\n",
    "driver.get(url)\n",
    "\n",
    "time.sleep(5)\n",
    "content = driver.page_source.encode('utf-8').strip()\n",
    "soup = BeautifulSoup(content,\"html.parser\")\n",
    "officials = soup.findAll(\"div\",{\"class\":\"_3e9da9c1\"})\n",
    "\n",
    "print(officials)\n",
    "\n",
    "entries = []\n",
    "for entry in officials:\n",
    "    entries.append(entry)\n",
    "    print(str(entry))\n",
    "\n",
    "print(entries)\n",
    "driver.quit()"
   ]
  },
  {
   "cell_type": "code",
   "execution_count": 5,
   "metadata": {},
   "outputs": [
    {
     "ename": "NameError",
     "evalue": "name 'entry' is not defined",
     "output_type": "error",
     "traceback": [
      "\u001b[1;31m---------------------------------------------------------------------------\u001b[0m",
      "\u001b[1;31mNameError\u001b[0m                                 Traceback (most recent call last)",
      "\u001b[1;32mC:\\Users\\HAMEED~1\\AppData\\Local\\Temp/ipykernel_3204/1572875938.py\u001b[0m in \u001b[0;36m<module>\u001b[1;34m\u001b[0m\n\u001b[1;32m----> 1\u001b[1;33m \u001b[0mentry\u001b[0m\u001b[1;33m\u001b[0m\u001b[1;33m\u001b[0m\u001b[0m\n\u001b[0m",
      "\u001b[1;31mNameError\u001b[0m: name 'entry' is not defined"
     ]
    }
   ],
   "source": [
    "entry"
   ]
  },
  {
   "cell_type": "code",
   "execution_count": null,
   "metadata": {},
   "outputs": [],
   "source": []
  }
 ],
 "metadata": {
  "interpreter": {
   "hash": "39ee83a919181290c4d842af751c914fc9cc9875936341250fd1c581d67a8dbc"
  },
  "kernelspec": {
   "display_name": "Python 3.10.0 ('data_science_env')",
   "language": "python",
   "name": "python3"
  },
  "language_info": {
   "codemirror_mode": {
    "name": "ipython",
    "version": 3
   },
   "file_extension": ".py",
   "mimetype": "text/x-python",
   "name": "python",
   "nbconvert_exporter": "python",
   "pygments_lexer": "ipython3",
   "version": "3.10.0"
  },
  "orig_nbformat": 4
 },
 "nbformat": 4,
 "nbformat_minor": 2
}
