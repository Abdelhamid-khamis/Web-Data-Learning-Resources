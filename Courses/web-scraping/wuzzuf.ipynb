{
 "cells": [
  {
   "cell_type": "code",
   "execution_count": null,
   "metadata": {},
   "outputs": [],
   "source": [
    "# Import important libraries\n",
    "import requests\n",
    "from bs4 import BeautifulSoup\n",
    "import lxml as xml\n",
    "from itertools import zip_longest\n",
    "import csv\n"
   ]
  },
  {
   "cell_type": "code",
   "execution_count": null,
   "metadata": {},
   "outputs": [],
   "source": [
    "result = requests.get('https://wuzzuf.net/search/jobs/?q=python&a=hpb')\n",
    "print(result)\n"
   ]
  },
  {
   "cell_type": "code",
   "execution_count": null,
   "metadata": {},
   "outputs": [],
   "source": [
    "src = result.content\n",
    "print(src)\n",
    "\n"
   ]
  },
  {
   "cell_type": "code",
   "execution_count": null,
   "metadata": {},
   "outputs": [],
   "source": [
    "\n",
    "soup = BeautifulSoup(src, \"lxml\")\n",
    "print(soup)"
   ]
  },
  {
   "cell_type": "code",
   "execution_count": null,
   "metadata": {},
   "outputs": [],
   "source": [
    "# Get jobs titles\n",
    "\n",
    "job_titles = soup.find_all(\"h2\", {\"class\" : \"css-m604qf\"})\n",
    "print(job_titles)"
   ]
  },
  {
   "cell_type": "code",
   "execution_count": null,
   "metadata": {},
   "outputs": [],
   "source": [
    "# Get company_names\n",
    "\n",
    "company_names = soup.find_all(\"a\", {\"class\" : \"css-17s97q8\"})\n",
    "print(company_names)"
   ]
  },
  {
   "cell_type": "code",
   "execution_count": null,
   "metadata": {},
   "outputs": [],
   "source": [
    "# Get location_names\n",
    "\n",
    "location_names = soup.find_all(\"span\",{\"class\":\"css-5wys0k\"})\n",
    "print(location_names)\n"
   ]
  },
  {
   "cell_type": "code",
   "execution_count": null,
   "metadata": {},
   "outputs": [],
   "source": [
    "\n",
    "# Get skill_names\n",
    "\n",
    "skill_names = soup.find_all(\"div\",{\"class\":\"css-y4udm8\"})\n",
    "print(skill_names)"
   ]
  },
  {
   "cell_type": "code",
   "execution_count": null,
   "metadata": {},
   "outputs": [],
   "source": [
    "job_title_list = []\n",
    "company_name_list = []\n",
    "location_name_list = []\n",
    "skill_name_list = []\n",
    "\n",
    "for counter in range(len(job_titles)):\n",
    "    job_title_list.append(job_titles[counter].text)\n",
    "    company_name_list.append(company_names[counter].text)\n",
    "    location_name_list.append(location_names[counter].text)\n",
    "    skill_name_list.append(skill_names[counter].text)\n",
    "    \n",
    "    \n",
    "\n",
    "print(job_title_list, company_name_list, location_name_list, skill_name_list)"
   ]
  },
  {
   "cell_type": "code",
   "execution_count": null,
   "metadata": {},
   "outputs": [],
   "source": [
    "with open(\"E:\\Products\\Codes\\Web-Data-Learning-Resources\\Courses\\web-scraping\\jobs.csv\", mode = \"w\") as jobs_file:\n",
    "    "
   ]
  }
 ],
 "metadata": {
  "interpreter": {
   "hash": "39ee83a919181290c4d842af751c914fc9cc9875936341250fd1c581d67a8dbc"
  },
  "kernelspec": {
   "display_name": "Python 3.10.0 ('data_science_env')",
   "language": "python",
   "name": "python3"
  },
  "language_info": {
   "codemirror_mode": {
    "name": "ipython",
    "version": 3
   },
   "file_extension": ".py",
   "mimetype": "text/x-python",
   "name": "python",
   "nbconvert_exporter": "python",
   "pygments_lexer": "ipython3",
   "version": "3.10.0"
  },
  "orig_nbformat": 4
 },
 "nbformat": 4,
 "nbformat_minor": 2
}
