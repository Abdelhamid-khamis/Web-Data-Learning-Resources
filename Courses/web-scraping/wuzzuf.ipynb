{
 "cells": [
  {
   "cell_type": "code",
   "execution_count": null,
   "metadata": {},
   "outputs": [],
   "source": [
    "# Import important libraries\n",
    "import requests\n",
    "from bs4 import BeautifulSoup\n",
    "import lxml as xml\n",
    "from itertools import zip_longest\n",
    "import csv\n"
   ]
  },
  {
   "cell_type": "code",
   "execution_count": null,
   "metadata": {},
   "outputs": [],
   "source": [
    "result = requests.get('https://wuzzuf.net/search/jobs/?q=python&a=hpb')\n",
    "print(result)\n"
   ]
  },
  {
   "cell_type": "code",
   "execution_count": null,
   "metadata": {},
   "outputs": [],
   "source": [
    "src = result.content\n",
    "print(src)\n",
    "\n"
   ]
  },
  {
   "cell_type": "code",
   "execution_count": null,
   "metadata": {},
   "outputs": [],
   "source": [
    "\n",
    "soup = BeautifulSoup(src, \"lxml\")\n",
    "print(soup)"
   ]
  },
  {
   "cell_type": "code",
   "execution_count": null,
   "metadata": {},
   "outputs": [],
   "source": [
    "# Get jobs titles\n",
    "\n",
    "job_title = soup.find_all(\"h2\", {\"class\" : \"css-m604qf\"})\n",
    "print(job_title)"
   ]
  },
  {
   "cell_type": "code",
   "execution_count": 42,
   "metadata": {},
   "outputs": [
    {
     "name": "stdout",
     "output_type": "stream",
     "text": [
      "[<a class=\"css-17s97q8\" href=\"https://wuzzuf.net/jobs/careers/WeArt-Germany-77926\" rel=\"noreferrer\" target=\"_blank\">WeArt -</a>, <a class=\"css-17s97q8\" href=\"https://wuzzuf.net/jobs/careers/Trufla-Egypt-17331\" rel=\"noreferrer\" target=\"_blank\">Trufla -</a>, <a class=\"css-17s97q8\" href=\"https://wuzzuf.net/jobs/careers/CROCOSOFT-Egypt-69766\" rel=\"noreferrer\" target=\"_blank\">CROCOSOFT -</a>, <a class=\"css-17s97q8\" href=\"https://wuzzuf.net/jobs/careers/Procrew-Egypt-48518\" rel=\"noreferrer\" target=\"_blank\">Procrew -</a>, <a class=\"css-17s97q8\" href=\"https://wuzzuf.net/jobs/careers/Dolf-Egypt-27171\" rel=\"noreferrer\" target=\"_blank\">Dolf -</a>, <a class=\"css-17s97q8\" href=\"https://wuzzuf.net/jobs/careers/SURE-International-Egypt-21250\" rel=\"noreferrer\" target=\"_blank\">SURE International Technology -</a>, <a class=\"css-17s97q8\" href=\"https://wuzzuf.net/jobs/careers/Salney--Inc--Qatar-78049\" rel=\"noreferrer\" target=\"_blank\">Salney, Inc. -</a>, <a class=\"css-17s97q8\" href=\"https://wuzzuf.net/jobs/careers/Accept-Payment-Solutions-Egypt-43747\" rel=\"noreferrer\" target=\"_blank\">Paymob Solutions -</a>, <a class=\"css-17s97q8\" href=\"https://wuzzuf.net/jobs/careers/Snuggs-Egypt-Egypt-55734\" rel=\"noreferrer\" target=\"_blank\">Snuggs Egypt -</a>, <a class=\"css-17s97q8\" href=\"https://wuzzuf.net/jobs/careers/Andela-Egypt-69699\" rel=\"noreferrer\" target=\"_blank\">Andela -</a>, <a class=\"css-17s97q8\" href=\"https://wuzzuf.net/jobs/careers/MISFTS-Egypt-41026\" rel=\"noreferrer\" target=\"_blank\">Virtual Worker Now -</a>, <a class=\"css-17s97q8\" href=\"https://wuzzuf.net/jobs/careers/Valify-Egypt-67794\" rel=\"noreferrer\" target=\"_blank\">Valify -</a>, <a class=\"css-17s97q8\" href=\"https://wuzzuf.net/jobs/careers/Nile-University-Egypt-30674\" rel=\"noreferrer\" target=\"_blank\">Nile University -</a>, <a class=\"css-17s97q8\" href=\"https://wuzzuf.net/jobs/careers/El-Sewedy-Electrometer-Egypt-23922\" rel=\"noreferrer\" target=\"_blank\">El-Sewedy Electrometer -</a>, <a class=\"css-17s97q8\" href=\"https://wuzzuf.net/jobs/careers/Flairstech-Egypt-1631\" rel=\"noreferrer\" target=\"_blank\">FlairsTech -</a>]\n"
     ]
    }
   ],
   "source": [
    "# Get company_names\n",
    "\n",
    "company_names = soup.find_all(\"a\", {\"class\" : \"css-17s97q8\"})\n",
    "print(company_names)"
   ]
  },
  {
   "cell_type": "code",
   "execution_count": 40,
   "metadata": {},
   "outputs": [
    {
     "name": "stdout",
     "output_type": "stream",
     "text": [
      "[<span class=\"css-5wys0k\">Dammam, <!-- -->Saudi Arabia </span>, <span class=\"css-5wys0k\">Heliopolis, <!-- -->Cairo, <!-- -->Egypt </span>, <span class=\"css-5wys0k\">New Cairo, <!-- -->Cairo, <!-- -->Egypt </span>, <span class=\"css-5wys0k\">Alexandria, <!-- -->Egypt </span>, <span class=\"css-5wys0k\">Heliopolis, <!-- -->Cairo, <!-- -->Egypt </span>, <span class=\"css-5wys0k\">Cairo, <!-- -->Egypt </span>, <span class=\"css-5wys0k\">Cairo, <!-- -->Egypt </span>, <span class=\"css-5wys0k\">Maadi, <!-- -->Cairo, <!-- -->Egypt </span>, <span class=\"css-5wys0k\">New Cairo, <!-- -->Cairo, <!-- -->Egypt </span>, <span class=\"css-5wys0k\">Cairo, <!-- -->Egypt </span>, <span class=\"css-5wys0k\">Cairo, <!-- -->Egypt </span>, <span class=\"css-5wys0k\">Maadi, <!-- -->Cairo, <!-- -->Egypt </span>, <span class=\"css-5wys0k\">Sheikh Zayed, <!-- -->Giza, <!-- -->Egypt </span>, <span class=\"css-5wys0k\">6th of October, <!-- -->Giza, <!-- -->Egypt </span>, <span class=\"css-5wys0k\">Cairo, <!-- -->Egypt </span>]\n"
     ]
    }
   ],
   "source": [
    "# Get location_names\n",
    "\n",
    "location_names = soup.find_all(\"span\",{\"class\":\"css-5wys0k\"})\n",
    "print(location_names)\n"
   ]
  },
  {
   "cell_type": "code",
   "execution_count": null,
   "metadata": {},
   "outputs": [],
   "source": []
  }
 ],
 "metadata": {
  "interpreter": {
   "hash": "39ee83a919181290c4d842af751c914fc9cc9875936341250fd1c581d67a8dbc"
  },
  "kernelspec": {
   "display_name": "Python 3.10.0 ('data_science_env')",
   "language": "python",
   "name": "python3"
  },
  "language_info": {
   "codemirror_mode": {
    "name": "ipython",
    "version": 3
   },
   "file_extension": ".py",
   "mimetype": "text/x-python",
   "name": "python",
   "nbconvert_exporter": "python",
   "pygments_lexer": "ipython3",
   "version": "3.10.0"
  },
  "orig_nbformat": 4
 },
 "nbformat": 4,
 "nbformat_minor": 2
}
