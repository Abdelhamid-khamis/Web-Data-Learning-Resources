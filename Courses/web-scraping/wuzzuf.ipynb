{
 "cells": [
  {
   "cell_type": "code",
   "execution_count": null,
   "metadata": {},
   "outputs": [],
   "source": [
    "# Import important libraries\n",
    "import requests\n",
    "from bs4 import BeautifulSoup\n",
    "import lxml as xml\n",
    "from itertools import zip_longest\n",
    "import csv\n"
   ]
  },
  {
   "cell_type": "code",
   "execution_count": null,
   "metadata": {},
   "outputs": [],
   "source": [
    "result = requests.get('https://wuzzuf.net/search/jobs/?q=python&a=hpb')\n",
    "print(result)\n"
   ]
  },
  {
   "cell_type": "code",
   "execution_count": null,
   "metadata": {},
   "outputs": [],
   "source": [
    "src = result.content\n",
    "print(src)\n",
    "\n"
   ]
  },
  {
   "cell_type": "code",
   "execution_count": null,
   "metadata": {},
   "outputs": [],
   "source": [
    "\n",
    "soup = BeautifulSoup(src, \"lxml\")\n",
    "print(soup)"
   ]
  },
  {
   "cell_type": "code",
   "execution_count": null,
   "metadata": {},
   "outputs": [],
   "source": [
    "# Get jobs titles\n",
    "\n",
    "job_titles = soup.find_all(\"h2\", {\"class\" : \"css-m604qf\"})\n",
    "print(job_titles)"
   ]
  },
  {
   "cell_type": "code",
   "execution_count": null,
   "metadata": {},
   "outputs": [],
   "source": [
    "# Get company_names\n",
    "\n",
    "company_names = soup.find_all(\"a\", {\"class\" : \"css-17s97q8\"})\n",
    "print(company_names)"
   ]
  },
  {
   "cell_type": "code",
   "execution_count": null,
   "metadata": {},
   "outputs": [],
   "source": [
    "# Get location_names\n",
    "\n",
    "location_names = soup.find_all(\"span\",{\"class\":\"css-5wys0k\"})\n",
    "print(location_names)\n"
   ]
  },
  {
   "cell_type": "code",
   "execution_count": null,
   "metadata": {},
   "outputs": [],
   "source": [
    "\n",
    "# Get skill_names\n",
    "\n",
    "skill_names = soup.find_all(\"div\",{\"class\":\"css-y4udm8\"})\n",
    "print(skill_names)"
   ]
  },
  {
   "cell_type": "code",
   "execution_count": 34,
   "metadata": {},
   "outputs": [
    {
     "name": "stdout",
     "output_type": "stream",
     "text": [
      "['Python Developer', 'Senior Python Developer', 'Senior Python Backend Developer', 'Python API Developer Ocucon Team (UK) - (Alexandria)', 'Full Stack Python Developer (Open Edx Developer)', 'Senior Python Developer', 'Python Backend Developer', 'Senior Software Engineer - Python', 'Python Back-End Developer (Part-Time)', 'Python Developer', 'Flask Python Backend Developer.', 'Senior Backend Developer (Python/Django)', 'Backend Developer (Python/Ruby)', 'Senior Python Linux Engineer', 'Senior Python Developer'] ['WeArt -', 'Trufla -', 'CROCOSOFT -', 'Procrew -', 'Dolf -', 'SURE International Technology -', 'Salney, Inc. -', 'Paymob Solutions -', 'Snuggs Egypt -', 'Andela -', 'Virtual Worker Now -', 'Valify -', 'Nile University -', 'El-Sewedy Electrometer -', 'FlairsTech -'] ['Dammam, Saudi Arabia ', 'Heliopolis, Cairo, Egypt ', 'New Cairo, Cairo, Egypt ', 'Alexandria, Egypt ', 'Heliopolis, Cairo, Egypt ', 'Cairo, Egypt ', 'Cairo, Egypt ', 'Maadi, Cairo, Egypt ', 'New Cairo, Cairo, Egypt ', 'Cairo, Egypt ', 'Cairo, Egypt ', 'Maadi, Cairo, Egypt ', 'Sheikh Zayed, Giza, Egypt ', '6th of October, Giza, Egypt ', 'Cairo, Egypt '] ['Full TimeExperienced · 3 - 8 Yrs of Exp · IT/Software Development · Engineering - Telecom/Technology · Flask · Python · Software Engineering · Django · Computer Science · Design Patterns · HTML5 · Information Technology (IT)', 'Full TimeExperienced · 4+ Yrs of Exp · IT/Software Development · Engineering - Telecom/Technology · Agile · APIs · AWS · Computer Science · Git · Information Technology (IT) · Linux · Python', 'Full TimeWork From HomeExperienced · 2 - 7 Yrs of Exp · IT/Software Development · Engineering - Telecom/Technology · Python · Flask · Git · Microservice Architecture · Relational Databases · Design Patterns · English · Information Technology (IT)', 'Full TimeExperienced · 3 - 5 Yrs of Exp · IT/Software Development · Engineering - Telecom/Technology · python development · RESTful API · Flask · Automation Testing · Docker · Computer Science · Information Technology (IT) · Software Development', 'Full TimeExperienced · 6 - 12 Yrs of Exp · IT/Software Development · Engineering - Telecom/Technology · Information Technology (IT) · Python · MySQL · MongoDB · JavaScript · HTML5 · Computer Science', 'Full TimeExperienced · 3 - 5 Yrs of Exp · IT/Software Development · Engineering - Telecom/Technology · Python Developer · Software Development · Computer Science · Python · Software Engineering · Git · HTML5 · CSS', 'Full TimeExperienced · 3 - 5 Yrs of Exp · IT/Software Development · Engineering - Telecom/Technology · Python · Django · developer · Engineering · Software Engineering · Computer Science · Information Technology (IT) · Software Development', 'Full TimeWork From HomeExperienced · 3 - 4 Yrs of Exp · IT/Software Development · Engineering - Telecom/Technology · Python · Django Framework · PHP Laravel · Information Technology (IT) · Computer Science · JavaScript · HTML · AWS', 'Part TimeFreelance / ProjectWork From HomeEntry Level · 0 - 2 Yrs of Exp · IT/Software Development · Engineering - Telecom/Technology · back-end · Back-End Developer · Computer Science · developer · Python · Software Development · Software Engineering · Information Technology (IT)', 'Full TimeFreelance / ProjectWork From HomeEntry Level · 3 - 5 Yrs of Exp · IT/Software Development · Engineering - Telecom/Technology · Computer Science · Information Technology (IT) · Software Development · Software Engineering · Engineering · Software · Python · Technical Support', 'Full TimeWork From HomeExperienced · 1 - 2 Yrs of Exp · IT/Software Development · Engineering - Telecom/Technology · backend · back-end · Flask · Python · Software Development · Computer Science · Web · Full-Stack', 'Full TimeExperienced · 3 - 5 Yrs of Exp · IT/Software Development · Engineering - Telecom/Technology · Django · RESTful · Python · OOP · Information Technology (IT) · Software Engineering · Software Development', 'Full TimeExperienced · 2+ Yrs of Exp · IT/Software Development · back-end · Programming · Python · Ruby · Software Development · Computer Science · Information Technology (IT) · OWASP', 'Full TimeExperienced · 3 - 5 Yrs of Exp · IT/Software Development · Engineering - Telecom/Technology · Software Development · Python · C++ · Information Technology (IT) · Computer Science · SQL · Programming · Electronics', 'Full TimeExperienced · 5 - 8 Yrs of Exp · IT/Software Development · Engineering - Telecom/Technology · Python · Django · Flask · JavaScript · HTML · CSS · Angular · Git']\n"
     ]
    }
   ],
   "source": [
    "job_title_list = []\n",
    "company_name_list = []\n",
    "location_name_list = []\n",
    "skill_name_list = []\n",
    "job_links_list = []\n",
    "\n",
    "for counter in range(len(job_titles)):\n",
    "    job_title_list.append(job_titles[counter].text)\n",
    "    \n",
    "    # in order to get the links you want to visit, to get salary and job description information.\n",
    "    job_links_list.append(\"https://wuzzuf.net/search/jobs\"+job_titles[counter].find(\"a\").attrs['href'])\n",
    "    \n",
    "    company_name_list.append(company_names[counter].text)\n",
    "    location_name_list.append(location_names[counter].text)\n",
    "    skill_name_list.append(skill_names[counter].text)\n",
    "    \n",
    "    \n",
    "\n",
    "print(job_title_list, company_name_list, location_name_list, skill_name_list)"
   ]
  },
  {
   "cell_type": "code",
   "execution_count": 35,
   "metadata": {},
   "outputs": [],
   "source": [
    "# create a variable of the extensive list of lists\n",
    "file_list = [job_title_list, company_name_list, location_name_list, skill_name_list, job_links_list]\n",
    "\n",
    "# Let's unpack this extensive list\n",
    "    # * asterisk means unpack the list\n",
    "    # zip_longest function will male pairs or triples of the unpacked list\n",
    "exported = zip_longest(*file_list)\n",
    "\n",
    "with open(\"E:\\Products\\Codes\\Web-Data-Learning-Resources\\Courses\\web-scraping\\jobs_spreadsheet.csv\", newline='', encoding='utf-8', mode = \"w\") as jobs_file:\n",
    "    \n",
    "    # create `writer object` from `csv` built-in module\n",
    "        # `jobs_file` is the alising file name for the newley created csv file\n",
    "    writer_object = csv.writer(jobs_file)\n",
    "    \n",
    "    writer_object.writerow([\"Job Title\", \"Company Name\", \"Location\", \"Skills\",\"Job Link\"])\n",
    "    writer_object.writerows(exported)"
   ]
  },
  {
   "cell_type": "markdown",
   "metadata": {},
   "source": [
    "![Image Title](pictures\\Untitled.png)\n"
   ]
  },
  {
   "cell_type": "code",
   "execution_count": 31,
   "metadata": {},
   "outputs": [
    {
     "data": {
      "text/plain": [
       "[<h2 class=\"css-m604qf\"><style data-emotion=\"css o171kl\">.css-o171kl{-webkit-text-decoration:none;text-decoration:none;color:inherit;}</style><a class=\"css-o171kl\" href=\"/jobs/p/cPvgV6Wt9Wjx-Python-Developer-WeArt-Dammam-Saudi-Arabia?o=1&amp;l=sp&amp;t=sj&amp;a=python|search-v3|hpb\" rel=\"noreferrer\" target=\"_blank\">Python Developer</a></h2>,\n",
       " <h2 class=\"css-m604qf\"><a class=\"css-o171kl\" href=\"/jobs/p/ONfRqVhgKtiC-Senior-Python-Developer-Trufla-Cairo-Egypt?o=2&amp;l=sp&amp;t=sj&amp;a=python|search-v3|hpb\" rel=\"noreferrer\" target=\"_blank\">Senior Python Developer</a></h2>,\n",
       " <h2 class=\"css-m604qf\"><a class=\"css-o171kl\" href=\"/jobs/p/baSpZywTtKVF-Senior-Python-Backend-Developer-CROCOSOFT-Cairo-Egypt?o=3&amp;l=sp&amp;t=sj&amp;a=python|search-v3|hpb\" rel=\"noreferrer\" target=\"_blank\">Senior Python Backend Developer</a></h2>,\n",
       " <h2 class=\"css-m604qf\"><a class=\"css-o171kl\" href=\"/jobs/p/BE8wenbXs88G-Python-API-Developer-Ocucon-Team-UK---Alexandria-Procrew-Alexandria-Egypt?o=4&amp;l=sp&amp;t=sj&amp;a=python|search-v3|hpb\" rel=\"noreferrer\" target=\"_blank\">Python API Developer Ocucon Team (UK) - (Alexandria)</a></h2>,\n",
       " <h2 class=\"css-m604qf\"><a class=\"css-o171kl\" href=\"/jobs/p/iu3t3cJ97TTT-Full-Stack-Python-Developer-Open-Edx-Developer-Dolf-Cairo-Egypt?o=5&amp;l=sp&amp;t=sj&amp;a=python|search-v3|hpb\" rel=\"noreferrer\" target=\"_blank\">Full Stack Python Developer (Open Edx Developer)</a></h2>,\n",
       " <h2 class=\"css-m604qf\"><a class=\"css-o171kl\" href=\"/jobs/p/jITGU1cOLq2S-Senior-Python-Developer-SURE-International-Technology-Cairo-Egypt?o=6&amp;l=sp&amp;t=sj&amp;a=python|search-v3|hpb\" rel=\"noreferrer\" target=\"_blank\">Senior Python Developer</a></h2>,\n",
       " <h2 class=\"css-m604qf\"><a class=\"css-o171kl\" href=\"/jobs/p/6PEE7W1NTlW5-Python-Backend-Developer-Salney-Inc-Cairo-Egypt?o=7&amp;l=sp&amp;t=sj&amp;a=python|search-v3|hpb\" rel=\"noreferrer\" target=\"_blank\">Python Backend Developer</a></h2>,\n",
       " <h2 class=\"css-m604qf\"><a class=\"css-o171kl\" href=\"/jobs/p/bsPdVn3MAuoG-Senior-Software-Engineer---Python-Paymob-Solutions-Cairo-Egypt?o=8&amp;l=sp&amp;t=sj&amp;a=python|search-v3|hpb\" rel=\"noreferrer\" target=\"_blank\">Senior Software Engineer - Python</a></h2>,\n",
       " <h2 class=\"css-m604qf\"><a class=\"css-o171kl\" href=\"/jobs/p/l2Q5ejbze43P-Python-Back-End-Developer-Part-Time-Snuggs-Egypt-Cairo-Egypt?o=9&amp;l=sp&amp;t=sj&amp;a=python|search-v3|hpb\" rel=\"noreferrer\" target=\"_blank\">Python Back-End Developer (Part-Time)</a></h2>,\n",
       " <h2 class=\"css-m604qf\"><a class=\"css-o171kl\" href=\"/jobs/p/1cbcpOIsGn6f-Python-Developer-Andela-Cairo-Egypt?o=10&amp;l=sp&amp;t=sj&amp;a=python|search-v3|hpb\" rel=\"noreferrer\" target=\"_blank\">Python Developer</a></h2>,\n",
       " <h2 class=\"css-m604qf\"><a class=\"css-o171kl\" href=\"/jobs/p/1XOMELtShdah-Flask-Python-Backend-Developer-Virtual-Worker-Now-Cairo-Egypt?o=11&amp;l=sp&amp;t=sj&amp;a=python|search-v3|hpb\" rel=\"noreferrer\" target=\"_blank\">Flask Python Backend Developer.</a></h2>,\n",
       " <h2 class=\"css-m604qf\"><a class=\"css-o171kl\" href=\"/jobs/p/8dCtCCGcqsia-Senior-Backend-Developer-PythonDjango-Valify-Cairo-Egypt?o=12&amp;l=sp&amp;t=sj&amp;a=python|search-v3|hpb\" rel=\"noreferrer\" target=\"_blank\">Senior Backend Developer (Python/Django)</a></h2>,\n",
       " <h2 class=\"css-m604qf\"><a class=\"css-o171kl\" href=\"/jobs/p/288nNuGDYeOx-Backend-Developer-PythonRuby-Nile-University-Giza-Egypt?o=13&amp;l=sp&amp;t=sj&amp;a=python|search-v3|hpb\" rel=\"noreferrer\" target=\"_blank\">Backend Developer (Python/Ruby)</a></h2>,\n",
       " <h2 class=\"css-m604qf\"><a class=\"css-o171kl\" href=\"/jobs/p/AKDnfcob97rW-Senior-Python-Linux-Engineer-El-Sewedy-Electrometer-Giza-Egypt?o=14&amp;l=sp&amp;t=sj&amp;a=python|search-v3|hpb\" rel=\"noreferrer\" target=\"_blank\">Senior Python Linux Engineer</a></h2>,\n",
       " <h2 class=\"css-m604qf\"><a class=\"css-o171kl\" href=\"/jobs/p/m1IJgo1YYNw8-Senior-Python-Developer-FlairsTech-Cairo-Egypt?o=15&amp;l=sp&amp;t=sj&amp;a=python|search-v3|hpb\" rel=\"noreferrer\" target=\"_blank\">Senior Python Developer</a></h2>]"
      ]
     },
     "execution_count": 31,
     "metadata": {},
     "output_type": "execute_result"
    }
   ],
   "source": [
    "job_titles"
   ]
  },
  {
   "cell_type": "code",
   "execution_count": null,
   "metadata": {},
   "outputs": [],
   "source": []
  }
 ],
 "metadata": {
  "interpreter": {
   "hash": "39ee83a919181290c4d842af751c914fc9cc9875936341250fd1c581d67a8dbc"
  },
  "kernelspec": {
   "display_name": "Python 3.10.0 ('data_science_env')",
   "language": "python",
   "name": "python3"
  },
  "language_info": {
   "codemirror_mode": {
    "name": "ipython",
    "version": 3
   },
   "file_extension": ".py",
   "mimetype": "text/x-python",
   "name": "python",
   "nbconvert_exporter": "python",
   "pygments_lexer": "ipython3",
   "version": "3.10.0"
  },
  "orig_nbformat": 4
 },
 "nbformat": 4,
 "nbformat_minor": 2
}
